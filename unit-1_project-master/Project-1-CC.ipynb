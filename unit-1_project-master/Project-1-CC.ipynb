{
 "cells": [
  {
   "cell_type": "markdown",
   "metadata": {},
   "source": [
    "<img src=\"http://imgur.com/1ZcRyrc.png\" style=\"float: left; margin: 20px; height: 55px\">\n",
    "\n",
    "# Project 1: Python Coding Exercises\n",
    "\n",
    "_Authors: Joseph Nelson (DC) _\n",
    "\n",
    "---"
   ]
  },
  {
   "cell_type": "markdown",
   "metadata": {},
   "source": [
    "The following code challenges are drawn from common exercises used in technical interviews.\n",
    "\n",
    "Please note that there may be several ways to approach each challenge. If you get stuck, try mapping out your approach in pseudocode first. Finally, while solutions to problems like these may be found online, remember that if you copy/paste code that you can't explain, you'll be missing out on the point of the project. The only way to truly learn a new skill is through practice, trial, and error - we can only help you improve by understanding where you are having trouble."
   ]
  },
  {
   "cell_type": "markdown",
   "metadata": {},
   "source": [
    "### Challenge 1: Largest Palindrome\n",
    "A palindromic number reads the same both ways. For example, 1234321 is a palindrome. The largest palindrome made from the product of two two-digit numbers is 9009 = 91 × 99. Find the largest palindrome made from the product of two three-digit numbers. Afterward, write a brief explanation walking through your code's logic in markdown."
   ]
  },
  {
   "cell_type": "code",
   "execution_count": 146,
   "metadata": {},
   "outputs": [
    {
     "name": "stdout",
     "output_type": "stream",
     "text": [
      "<class 'list'>\n",
      "Largest palindrome from the product of 2 3 digit numbers is:  906609\n"
     ]
    }
   ],
   "source": [
    "from itertools import *   #import everything from itertools library to use the product function\n",
    "minimum=100   #set the min and max to 100 and 999 as the minimum and maximum 3 digit numbers\n",
    "maximum=999\n",
    "List1=list(range(minimum,maximum))   #create a list of integers from 100 to 999 in 2 seperate variable\n",
    "List2=list(range(minimum,maximum))\n",
    "List3=list(product(List1, List2))    #Create a product tuples of all possible product combinations between 100 and 999\n",
    "List4= [x * y for x, y in product(List1, List2)]  #Displays every possible products between 2 3-digit numbers\n",
    "c=0      #initialize counter\n",
    "List5=[]  #Create an empty to put all the palindrome numbers\n",
    "for i in List4:   #Create a for loop that reads through each value in the list\n",
    "    t=i\n",
    "    rev=0      #initialize a reverse number\n",
    "    while t!=0:     #This loop takes the number from the list and gets its reverse number\n",
    "        rev = rev * 10 + t % 10    \n",
    "        t = t // 10\n",
    "    if rev == i:    #Checks to see if the reverse is equal to the number and if so, that number is a palindrome \n",
    "        List5.append(i) #which will then be added to a new list. The list5 is a new list of all the palindrome numbers\n",
    "        c+=1              #of the product between 2 3-digit numbers\n",
    "print(type(List4))\n",
    "print(\"Largest palindrome from the product of 2 3 digit numbers is: \",max(List5)) #Takes the maximum value of the palindrome list\n"
   ]
  },
  {
   "cell_type": "markdown",
   "metadata": {},
   "source": [
    "\n",
    "### Challenge 2: Summation of Primes\n",
    "The sum of the primes below 10 is 2 + 3 + 5 + 7 = 17. Find the sum of all the primes below 2,000. Afterward, write a brief explanation walking through your code's logic in markdown."
   ]
  },
  {
   "cell_type": "code",
   "execution_count": 142,
   "metadata": {},
   "outputs": [
    {
     "name": "stdout",
     "output_type": "stream",
     "text": [
      "Sum of all primes below 2000 is:  277050\n"
     ]
    }
   ],
   "source": [
    "limit=2   #smallest prime number so I used this as a lower limit\n",
    "List1=[]  #Create an empty list so when we do the for loop, we can add the results to this list\n",
    "while (limit < 2000):           #While loop to find the sums of primes below 2000\n",
    "    for i in range(2,limit):        #the for loop will go through each elements from 2 to the limit value\n",
    "        if (limit%i==0):    #If the limit value can be divided (remainder = 0) by all the preceding elements (i) from 2 then\n",
    "            break           # the if statement will end otherwise the limit value will pass to the new list if as long as\n",
    "    else:                           # the remainder is not 0.\n",
    "        List1.append(limit)      #The prime number gets added to the new list\n",
    "    limit+=1         #This incraments the limit value by 1 until it reaches 2000 and then the while loop ends\n",
    "total=0        #Initialize the variable to 0\n",
    "for add in range(0,len(List1)):   #This for loop will add all the elements in the list by iterating through each element\n",
    "    total=total+List1[add]        # and then displaying the total sum value in the variable 'total'\n",
    "print(\"Sum of all primes below 2000 is: \", total) #print the results\n",
    "    "
   ]
  },
  {
   "cell_type": "markdown",
   "metadata": {},
   "source": [
    "### Challenge 3: Multiples of 3 and 5\n",
    "If we list all of the natural numbers below 10 that are multiples of 3 or 5, we get 3, 5, 6, and 9. The sum of these multiples is 23. Find the sum of all the multiples of 3 and 5 below 1,000. Afterward, write a brief explanation walking through your code's logic in markdown."
   ]
  },
  {
   "cell_type": "code",
   "execution_count": 132,
   "metadata": {},
   "outputs": [
    {
     "name": "stdout",
     "output_type": "stream",
     "text": [
      "[0, 15, 30, 45, 60, 75, 90, 105, 120, 135, 150, 165, 180, 195, 210, 225, 240, 255, 270, 285, 300, 315, 330, 345, 360, 375, 390, 405, 420, 435, 450, 465, 480, 495, 510, 525, 540, 555, 570, 585, 600, 615, 630, 645, 660, 675, 690, 705, 720, 735, 750, 765, 780, 795, 810, 825, 840, 855, 870, 885, 900, 915, 930, 945, 960, 975, 990]\n",
      "Sum of all multiples of 3 and 5 below 1000 is:  33165\n"
     ]
    }
   ],
   "source": [
    "limit=1000     #The max limit\n",
    "List1=[]       #Create an empty list so when we do the for loop, we can add the results to this list\n",
    "for i in range(limit):  #The for loop will continue until 1000 and each element will be divided by 3 and 5  \n",
    "    if (i%3==0 and i%5==0):   #and if there is no remainder then that element will be added to a new list\n",
    "        List1.append(i)\n",
    "        i+=1       #iteratation\n",
    "total=0 #Initialized the variable to 0\n",
    "print(List1)\n",
    "for add in range(0,len(List1)): #This for loop will add all the elements in the elements by iterating through each element\n",
    "    total=total+List1[add]   # and then displaying the total sum value in the variable 'total'\n",
    "print(\"Sum of all multiples of 3 and 5 below 1000 is: \", total) #print the results"
   ]
  },
  {
   "cell_type": "markdown",
   "metadata": {},
   "source": [
    "### Challenge 4: String Compressor\n",
    "Implement a method to perform basic string compression using the counts of repeated characters. (This is called run-length encoding.) For example, the string \"aabcccccaaa\" would become a2b1c5a3. If the “compressed” string would not become smaller than the original string, your method should return the original string. You can assume the string has only uppercase and lowercase letters (a–z). Specify whether your solution is case sensitive or case insensitive and what you would need to change to make it the other. Afterward, write a brief explanation walking through your code's logic in markdown."
   ]
  },
  {
   "cell_type": "code",
   "execution_count": 145,
   "metadata": {},
   "outputs": [
    {
     "name": "stdout",
     "output_type": "stream",
     "text": [
      "27\n",
      "a4w3k2o4f5b2c4a3\n"
     ]
    }
   ],
   "source": [
    "List3=\"aaaawwwkkoooofffffbbccccaaa\"\n",
    "a=len(List3) #get the length of the string\n",
    "List4=\"\"  #create a new string to pass the compressed string value to\n",
    "count=1   #set a counter\n",
    "print(a)  #print the length of string\n",
    "for i in range(a-1):      #for loop throughout the whole string\n",
    "    j=i+1                 #create a consecutive variable that is one element higher than i\n",
    "    if List3[i]==List3[j]:   #if the character of one location is equal to the character of its previous location \n",
    "        count+=1             #then the counter value will incrament until the char of one location is not equal to its\n",
    "    else:                    #previous location. Then that character along with its counted value in string will be added \n",
    "        List4+=List3[i]+str(count)     #to a new string and the counter will reset to 1\n",
    "        count=1\n",
    "    i+=1                     #iterate until the for loop reaches the end of the string\n",
    "List4+=List3[i]+str(count)    #add in the last character/count of the string\n",
    "print(List4)   #print the result"
   ]
  },
  {
   "cell_type": "markdown",
   "metadata": {},
   "source": [
    "### *BONUS* Challenge: FizzBuzz\n",
    "Write a program that prints all of the numbers from 1 to 100. For multiples of 3, instead of the number, print \"Fizz;\" for multiples of 5, print \"Buzz.\" For numbers that are multiples of both 3 and 5, print \"FizzBuzz.\" Afterward, write a brief explanation walking through your code's logic in markdown."
   ]
  },
  {
   "cell_type": "code",
   "execution_count": null,
   "metadata": {},
   "outputs": [],
   "source": []
  },
  {
   "cell_type": "code",
   "execution_count": null,
   "metadata": {},
   "outputs": [],
   "source": []
  }
 ],
 "metadata": {
  "anaconda-cloud": {},
  "kernelspec": {
   "display_name": "Python 3",
   "language": "python",
   "name": "python3"
  },
  "language_info": {
   "codemirror_mode": {
    "name": "ipython",
    "version": 3
   },
   "file_extension": ".py",
   "mimetype": "text/x-python",
   "name": "python",
   "nbconvert_exporter": "python",
   "pygments_lexer": "ipython3",
   "version": "3.7.3"
  }
 },
 "nbformat": 4,
 "nbformat_minor": 2
}
